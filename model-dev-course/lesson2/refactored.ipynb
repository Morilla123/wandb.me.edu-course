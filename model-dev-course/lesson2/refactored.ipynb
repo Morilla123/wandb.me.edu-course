{
 "cells": [
  {
   "cell_type": "code",
   "execution_count": null,
   "id": "bd96a79d",
   "metadata": {},
   "outputs": [],
   "source": [
    "import os\n",
    "import pandas as pd\n",
    "from ml_collections import config_dict\n",
    "from fastai.vision.all import Path, ImageDataLoaders, vision_learner, \\\n",
    "    accuracy, Precision, Recall, F1Score, SaveModelCallback, resnet18, Resize\n",
    "from fastai.callback.wandb import WandbCallback\n",
    "import timm\n",
    "\n",
    "import wandb"
   ]
  },
  {
   "cell_type": "code",
   "execution_count": null,
   "id": "b4b2bdfb",
   "metadata": {},
   "outputs": [],
   "source": [
    "cfg = config_dict.ConfigDict()\n",
    "cfg.img_size = 64\n",
    "cfg.target_column = 'mold'\n",
    "cfg.bs = 128\n",
    "cfg.seed = 42\n",
    "cfg.epochs = 2\n",
    "cfg.PROJECT_NAME = 'lemon-dataset'\n",
    "cfg.RAW_DATA_AT = 'lemon_dataset_raw_data_2690'\n",
    "cfg.PROCESSED_DATA_AT = 'lemon_dataset_processed_data'\n",
    "cfg.arch = 'resnet18'"
   ]
  },
  {
   "cell_type": "code",
   "execution_count": null,
   "id": "9b37f91c",
   "metadata": {},
   "outputs": [],
   "source": [
    "# functions\n",
    "def prepare_data(cfg, run):\n",
    "    raw_data_at = run.use_artifact(f'{cfg.RAW_DATA_AT}:latest')\n",
    "    raw_dataset_dir = raw_data_at.download()\n",
    "    processed_data_at = run.use_artifact(f'{cfg.PROCESSED_DATA_AT}:latest')\n",
    "    processed_dataset_dir = processed_data_at.download()\n",
    "    df = pd.read_csv(os.path.join(processed_dataset_dir, 'data_split.csv'))\n",
    "    df = df[df.stage != 'test'].reset_index(drop=True)\n",
    "    df['valid'] = df.stage == 'valid'\n",
    "    path = Path(raw_dataset_dir)\n",
    "    return df, path\n"
   ]
  },
  {
   "cell_type": "code",
   "execution_count": null,
   "id": "eae1911d",
   "metadata": {},
   "outputs": [],
   "source": [
    "def main(cfg):\n",
    "    run = wandb.init(project=cfg.PROJECT_NAME, job_type=\"training\", tags='fastai')\n",
    "    wandb.config.update(cfg)\n",
    "    df, path = prepare_data(cfg, run)\n",
    "    dls = ImageDataLoaders.from_df(df, path=path, \n",
    "                                   seed=cfg.seed, \n",
    "                                   fn_col='file_name', \n",
    "                                   label_col=cfg.target_column, \n",
    "                                   valid_col='valid', \n",
    "                                   item_tfms=Resize(cfg.img_size), \n",
    "                                   bs=cfg.bs\n",
    "                                  )\n",
    "    learn = vision_learner(dls, \n",
    "                           cfg.arch,\n",
    "                           metrics=[accuracy, Precision(), Recall(), F1Score()],\n",
    "                           cbs=[WandbCallback(log_preds=False), SaveModelCallback(monitor='f1_score')])\n",
    "    learn.fine_tune(cfg.epochs)   \n",
    "    inp,preds,targs,out = learn.get_preds(with_input=True, with_decoded=True)\n",
    "    imgs = [wandb.Image(t.permute(1,2,0)) for t in inp]\n",
    "    pred_proba = preds[:,1].numpy().tolist()\n",
    "    targets = targs.numpy().tolist()\n",
    "    predictions = out.numpy().tolist()\n",
    "    df = pd.DataFrame(list(zip(imgs, pred_proba, predictions, targets)),\n",
    "               columns =['image', 'probability', 'prediction', 'target'])\n",
    "    run.log({'predictions_table': wandb.Table(dataframe=df)})\n",
    "    run.finish()\n",
    "    "
   ]
  },
  {
   "cell_type": "code",
   "execution_count": null,
   "id": "ac6c35ba",
   "metadata": {},
   "outputs": [],
   "source": [
    "main(cfg)"
   ]
  },
  {
   "cell_type": "code",
   "execution_count": null,
   "id": "a4b80a49",
   "metadata": {},
   "outputs": [],
   "source": []
  }
 ],
 "metadata": {
  "kernelspec": {
   "display_name": "Python 3 (ipykernel)",
   "language": "python",
   "name": "python3"
  },
  "language_info": {
   "codemirror_mode": {
    "name": "ipython",
    "version": 3
   },
   "file_extension": ".py",
   "mimetype": "text/x-python",
   "name": "python",
   "nbconvert_exporter": "python",
   "pygments_lexer": "ipython3",
   "version": "3.8.0"
  }
 },
 "nbformat": 4,
 "nbformat_minor": 5
}
